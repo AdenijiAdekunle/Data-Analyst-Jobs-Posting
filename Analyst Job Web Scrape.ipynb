{
 "cells": [
  {
   "cell_type": "markdown",
   "metadata": {
    "collapsed": true
   },
   "source": [
    "# Project: Data Analyst Jobs\n",
    "The goal of this project is to put some of the skills (Python, SQL, Webscraping) I have learnt to use and comb out more details about the 'Data Analytics' field of Data.\n",
    "\n",
    "This Project is divided into two parts; **Web Scraping in Python** and **Exploration/Cleaning in SQL**. However, I added a last one to it... **A WordCloud Viz**"
   ]
  },
  {
   "cell_type": "markdown",
   "metadata": {
    "collapsed": true
   },
   "source": [
    "## Introduction\n",
    "In this part of this project, I scraped a job posting portal, [ai-jobs.net](https://ai-jobs.net) for ** Data Analyst jobs**. I did this with the BeautifulSoup web scraping tool and Python Programming Language. The following are the scraped details:\n",
    "* Job Ttile - The name of the available job\n",
    "* Company Name - The name of the company with the job vacancy\n",
    "* Location - It contains the Physical Location of the company and if the job is remote\n",
    "* Level - It's the Job level, if it is a junior, mid or senior role\n",
    "* Job Type - Is the job a full-time or internship role\n",
    "* Salary Range - The pay range (some columns are in yearly range, while some are in hourly range)\n",
    "* Required Skills - Necessary skills an applicant must have before applying\n",
    "* Benefits - The benefits that comes with the job"
   ]
  },
  {
   "cell_type": "code",
   "execution_count": 1,
   "metadata": {
    "collapsed": true
   },
   "outputs": [],
   "source": [
    "#import needed libraries\n",
    "from bs4 import BeautifulSoup\n",
    "import requests\n",
    "import pandas as pd \n",
    "import urllib.parse "
   ]
  },
  {
   "cell_type": "code",
   "execution_count": 2,
   "metadata": {
    "collapsed": true
   },
   "outputs": [],
   "source": [
    "#store website into a variable\n",
    "website = 'https://ai-jobs.net/analyst-jobs/'"
   ]
  },
  {
   "cell_type": "code",
   "execution_count": 3,
   "metadata": {
    "collapsed": true
   },
   "outputs": [],
   "source": [
    "#make request to the website specified above\n",
    "response = requests.get(website)"
   ]
  },
  {
   "cell_type": "code",
   "execution_count": 4,
   "metadata": {},
   "outputs": [
    {
     "data": {
      "text/plain": [
       "200"
      ]
     },
     "execution_count": 4,
     "metadata": {},
     "output_type": "execute_result"
    }
   ],
   "source": [
    "#confirm if the request made was successful\n",
    "response.status_code"
   ]
  },
  {
   "cell_type": "code",
   "execution_count": 5,
   "metadata": {
    "collapsed": true
   },
   "outputs": [],
   "source": [
    "#create a soup object to get access to the html content of the website\n",
    "soup = BeautifulSoup(response.content, 'html.parser')"
   ]
  },
  {
   "cell_type": "code",
   "execution_count": null,
   "metadata": {
    "collapsed": true
   },
   "outputs": [],
   "source": [
    "soup"
   ]
  },
  {
   "cell_type": "code",
   "execution_count": 6,
   "metadata": {
    "collapsed": true
   },
   "outputs": [],
   "source": [
    "#start to store the website content in a variable \n",
    "results = soup.find('div', {'class':'list-group list-group-flush mb-5'}).find_all('a', {'class':'col list-group-item-action p-2'})"
   ]
  },
  {
   "cell_type": "code",
   "execution_count": 7,
   "metadata": {},
   "outputs": [
    {
     "data": {
      "text/plain": [
       "90"
      ]
     },
     "execution_count": 7,
     "metadata": {},
     "output_type": "execute_result"
    }
   ],
   "source": [
    "len(results)"
   ]
  },
  {
   "cell_type": "code",
   "execution_count": 9,
   "metadata": {
    "collapsed": true
   },
   "outputs": [],
   "source": [
    "#all the content that are needed are stored in the variable created as a list \n",
    "results[0]"
   ]
  },
  {
   "cell_type": "markdown",
   "metadata": {},
   "source": [
    "#### Job Title"
   ]
  },
  {
   "cell_type": "code",
   "execution_count": 8,
   "metadata": {},
   "outputs": [
    {
     "data": {
      "text/plain": [
       "'Business Intelligence Analyst'"
      ]
     },
     "execution_count": 8,
     "metadata": {},
     "output_type": "execute_result"
    }
   ],
   "source": [
    "#pulling out content from each index of the list \n",
    "results[0].find('h3', {'class':'h5 mb-1'}).get_text()"
   ]
  },
  {
   "cell_type": "markdown",
   "metadata": {},
   "source": [
    "#### Company"
   ]
  },
  {
   "cell_type": "code",
   "execution_count": 9,
   "metadata": {},
   "outputs": [
    {
     "data": {
      "text/plain": [
       "'Amica Mutual Insurance Company'"
      ]
     },
     "execution_count": 9,
     "metadata": {},
     "output_type": "execute_result"
    }
   ],
   "source": [
    "results[0].find('p', {'class':'m-0 text-muted job-list-item-company'}).get_text()"
   ]
  },
  {
   "cell_type": "markdown",
   "metadata": {},
   "source": [
    "#### Location"
   ]
  },
  {
   "cell_type": "code",
   "execution_count": 10,
   "metadata": {},
   "outputs": [
    {
     "data": {
      "text/plain": [
       "'Lincoln, RI, 02865'"
      ]
     },
     "execution_count": 10,
     "metadata": {},
     "output_type": "execute_result"
    }
   ],
   "source": [
    "results[0].find('span', {'class':'d-none d-md-block text-break job-list-item-location'}).get_text()"
   ]
  },
  {
   "cell_type": "markdown",
   "metadata": {
    "collapsed": true
   },
   "source": [
    "#### Level"
   ]
  },
  {
   "cell_type": "code",
   "execution_count": 11,
   "metadata": {},
   "outputs": [
    {
     "data": {
      "text/plain": [
       "'Mid-level'"
      ]
     },
     "execution_count": 11,
     "metadata": {},
     "output_type": "execute_result"
    }
   ],
   "source": [
    "results[0].find('span', {'class':'badge badge-info badge-pill my-md-1 d-none d-md-inline-block'}).get_text()"
   ]
  },
  {
   "cell_type": "markdown",
   "metadata": {
    "collapsed": true
   },
   "source": [
    "#### Job Type"
   ]
  },
  {
   "cell_type": "code",
   "execution_count": 12,
   "metadata": {},
   "outputs": [
    {
     "data": {
      "text/plain": [
       "'Full Time'"
      ]
     },
     "execution_count": 12,
     "metadata": {},
     "output_type": "execute_result"
    }
   ],
   "source": [
    "results[0].find('span', {'class':'badge badge-secondary badge-pill my-md-1'}).get_text()"
   ]
  },
  {
   "cell_type": "markdown",
   "metadata": {},
   "source": [
    "#### Salary range"
   ]
  },
  {
   "cell_type": "code",
   "execution_count": 13,
   "metadata": {},
   "outputs": [
    {
     "data": {
      "text/plain": [
       "'USD 50K - 85K *'"
      ]
     },
     "execution_count": 13,
     "metadata": {},
     "output_type": "execute_result"
    }
   ],
   "source": [
    "results[4].find('span', {'class':'badge badge-success badge-pill d-none d-md-inline-block'}).get_text()"
   ]
  },
  {
   "cell_type": "markdown",
   "metadata": {
    "collapsed": true
   },
   "source": [
    "#### Skills"
   ]
  },
  {
   "cell_type": "code",
   "execution_count": 14,
   "metadata": {},
   "outputs": [
    {
     "data": {
      "text/plain": [
       "['Business Intelligence',\n",
       " 'PowerBI',\n",
       " 'Python',\n",
       " 'R',\n",
       " 'SAS',\n",
       " 'SQL',\n",
       " 'Tableau',\n",
       " 'Testing']"
      ]
     },
     "execution_count": 14,
     "metadata": {},
     "output_type": "execute_result"
    }
   ],
   "source": [
    "[x.get_text() for x in results[0].find_all('span', 'badge badge-light badge-pill')]"
   ]
  },
  {
   "cell_type": "markdown",
   "metadata": {},
   "source": [
    "#### Benefits"
   ]
  },
  {
   "cell_type": "code",
   "execution_count": 15,
   "metadata": {},
   "outputs": [
    {
     "data": {
      "text/plain": [
       "['Competitive pay',\n",
       " 'Conferences',\n",
       " 'Fitness / gym',\n",
       " 'Health care',\n",
       " 'Insurance',\n",
       " '+3']"
      ]
     },
     "execution_count": 15,
     "metadata": {},
     "output_type": "execute_result"
    }
   ],
   "source": [
    "[i.get_text() for i in results[0].find_all('span', 'badge badge-success badge-pill')]"
   ]
  },
  {
   "cell_type": "code",
   "execution_count": null,
   "metadata": {
    "collapsed": true
   },
   "outputs": [],
   "source": []
  },
  {
   "cell_type": "code",
   "execution_count": 21,
   "metadata": {
    "collapsed": true
   },
   "outputs": [],
   "source": [
    "#create an empty list\n",
    "Job_title = []\n",
    "Company = []\n",
    "Location = []\n",
    "Level = []\n",
    "Job_type = []\n",
    "Salary = []\n",
    "Skill = []\n",
    "Benefit = []\n",
    "\n",
    "#Create a for loop that will loop through the rows and append the data extracted to the list created\n",
    "for result in results:\n",
    "    try:\n",
    "        Job_title.append(result.find('h3', {'class':'h5 mb-1'}).get_text()) \n",
    "    except:\n",
    "        Job_title.append('n/a')\n",
    "        \n",
    "    try:\n",
    "        Company.append(result.find('p', {'class':'m-0 text-muted job-list-item-company'}).get_text()) \n",
    "    except:\n",
    "        Company.append('n/a')\n",
    "        \n",
    "    try:\n",
    "        Location.append(result.find('span', {'class':'d-none d-md-block text-break job-list-item-location'}).get_text()) \n",
    "    except:\n",
    "        Location.append('n/a')\n",
    "        \n",
    "    try:\n",
    "        Level.append(result.find('span', {'class':'badge badge-info badge-pill my-md-1 d-none d-md-inline-block'}).get_text()) \n",
    "    except:\n",
    "        Level.append('n/a')\n",
    "        \n",
    "    try:\n",
    "        Job_type.append(result.find('span', {'class':'badge badge-secondary badge-pill my-md-1'}).get_text()) \n",
    "    except:\n",
    "        Job_type.append('n/a')\n",
    "    \n",
    "    try:\n",
    "        Salary.append(result.find('span', {'class':'badge badge-success badge-pill d-none d-md-inline-block'}).get_text()) \n",
    "    except:\n",
    "        Salary.append('n/a')\n",
    "    \n",
    "    try:\n",
    "        Skill.append([x.get_text() for x in result.find_all('span', 'badge badge-light badge-pill')])\n",
    "    except:\n",
    "        Skill.append('n/a')\n",
    "    \n",
    "    try:\n",
    "        Benefit.append([x.get_text() for x in result.find_all('span', 'badge badge-success badge-pill')])\n",
    "    except:\n",
    "        Benefit.append('n/a')"
   ]
  },
  {
   "cell_type": "code",
   "execution_count": 22,
   "metadata": {},
   "outputs": [
    {
     "data": {
      "text/plain": [
       "['n/a',\n",
       " 'n/a',\n",
       " 'n/a',\n",
       " 'USD 50K - 85K *',\n",
       " 'USD 50K - 85K *',\n",
       " 'USD 50K - 85K *',\n",
       " 'n/a',\n",
       " 'USD 50K - 85K *',\n",
       " 'USD 30K - 80K *',\n",
       " 'USD 50K - 85K *',\n",
       " 'USD 30K - 80K *',\n",
       " 'n/a',\n",
       " 'USD 51K - 90K *',\n",
       " 'USD 50K - 85K *',\n",
       " 'n/a',\n",
       " 'n/a',\n",
       " 'USD 30K - 80K *',\n",
       " 'USD 50K - 85K *',\n",
       " 'USD 50K - 85K *',\n",
       " 'USD 50K - 85K *',\n",
       " 'USD 50K - 85K *',\n",
       " 'USD 68K - 135K *',\n",
       " 'USD 51K - 90K *',\n",
       " 'n/a',\n",
       " 'USD 76K - 150K *',\n",
       " 'USD 68K - 135K *',\n",
       " 'USD 50K - 85K *',\n",
       " 'USD 36K - 100K *',\n",
       " 'n/a',\n",
       " 'n/a',\n",
       " 'USD 50K - 85K *',\n",
       " 'USD 50K - 85K *',\n",
       " 'USD 50K - 85K *',\n",
       " 'n/a',\n",
       " 'n/a',\n",
       " 'USD 50K - 85K *',\n",
       " 'USD 51K - 90K *',\n",
       " 'USD 51K - 90K *',\n",
       " 'USD 50K - 85K *',\n",
       " 'n/a',\n",
       " 'n/a',\n",
       " 'USD 68K - 135K *',\n",
       " 'n/a',\n",
       " 'n/a',\n",
       " 'USD 68K - 135K *',\n",
       " 'USD 51K - 90K *',\n",
       " 'USD 50K - 85K *',\n",
       " 'n/a',\n",
       " 'USD 50K - 85K *',\n",
       " 'n/a',\n",
       " 'USD 51K - 90K *',\n",
       " 'n/a',\n",
       " 'n/a',\n",
       " 'n/a',\n",
       " 'USD 68K - 135K *',\n",
       " 'n/a',\n",
       " 'USD 68K - 135K *',\n",
       " 'USD 50K - 85K *',\n",
       " 'USD 50K - 85K *',\n",
       " 'USD 51K - 90K *',\n",
       " 'USD 113K - 144K',\n",
       " 'USD 30K - 80K *',\n",
       " 'USD 50K - 85K *',\n",
       " 'USD 50K - 85K *',\n",
       " 'USD 50K - 85K *',\n",
       " 'USD 54K - 200K',\n",
       " 'USD 50K - 85K *',\n",
       " 'n/a',\n",
       " 'n/a',\n",
       " 'USD 51K - 90K *',\n",
       " 'USD 50K - 85K *',\n",
       " 'USD 50K - 85K *',\n",
       " 'n/a',\n",
       " 'USD 50K - 85K *',\n",
       " 'n/a',\n",
       " 'n/a',\n",
       " 'n/a',\n",
       " 'n/a',\n",
       " 'USD 50K - 85K *',\n",
       " 'USD 68K - 135K *',\n",
       " 'n/a',\n",
       " 'USD 51K - 90K *',\n",
       " 'USD 51K - 90K *',\n",
       " 'USD 50K - 85K *',\n",
       " 'USD 50K - 85K *',\n",
       " 'n/a',\n",
       " 'n/a',\n",
       " 'USD 50K - 85K *',\n",
       " 'USD 50K - 85K *',\n",
       " 'USD 50K - 85K *']"
      ]
     },
     "execution_count": 22,
     "metadata": {},
     "output_type": "execute_result"
    }
   ],
   "source": [
    "Salary"
   ]
  },
  {
   "cell_type": "code",
   "execution_count": 25,
   "metadata": {
    "collapsed": true
   },
   "outputs": [],
   "source": [
    "#give column header names to each columns\n",
    "analysts = pd.DataFrame({'Job Title': Job_title, 'Company': Company, 'Location': Location, 'Level': Level,\n",
    "                        'Job Type': Job_type, 'Salary Range': Salary, 'Required Skills': Skill, 'Benefits': Benefit})"
   ]
  },
  {
   "cell_type": "code",
   "execution_count": 26,
   "metadata": {},
   "outputs": [
    {
     "data": {
      "text/html": [
       "<div>\n",
       "<style scoped>\n",
       "    .dataframe tbody tr th:only-of-type {\n",
       "        vertical-align: middle;\n",
       "    }\n",
       "\n",
       "    .dataframe tbody tr th {\n",
       "        vertical-align: top;\n",
       "    }\n",
       "\n",
       "    .dataframe thead th {\n",
       "        text-align: right;\n",
       "    }\n",
       "</style>\n",
       "<table border=\"1\" class=\"dataframe\">\n",
       "  <thead>\n",
       "    <tr style=\"text-align: right;\">\n",
       "      <th></th>\n",
       "      <th>Job Title</th>\n",
       "      <th>Company</th>\n",
       "      <th>Location</th>\n",
       "      <th>Level</th>\n",
       "      <th>Job Type</th>\n",
       "      <th>Salary Range</th>\n",
       "      <th>Required Skills</th>\n",
       "      <th>Benefits</th>\n",
       "    </tr>\n",
       "  </thead>\n",
       "  <tbody>\n",
       "    <tr>\n",
       "      <th>0</th>\n",
       "      <td>Business Intelligence Analyst</td>\n",
       "      <td>Amica Mutual Insurance Company</td>\n",
       "      <td>Lincoln, RI, 02865</td>\n",
       "      <td>Mid-level</td>\n",
       "      <td>Full Time</td>\n",
       "      <td>n/a</td>\n",
       "      <td>[Business Intelligence, PowerBI, Python, R, SA...</td>\n",
       "      <td>[Competitive pay, Conferences, Fitness / gym, ...</td>\n",
       "    </tr>\n",
       "    <tr>\n",
       "      <th>1</th>\n",
       "      <td>Lead Business Intelligence Analyst</td>\n",
       "      <td>Amica Mutual Insurance Company</td>\n",
       "      <td>Lincoln, RI, 02865</td>\n",
       "      <td>Senior-level</td>\n",
       "      <td>Full Time</td>\n",
       "      <td>n/a</td>\n",
       "      <td>[Business Intelligence, KPIs, Python, R, SAS, ...</td>\n",
       "      <td>[Competitive pay, Conferences, Fitness / gym, ...</td>\n",
       "    </tr>\n",
       "    <tr>\n",
       "      <th>2</th>\n",
       "      <td>Sênior Data Analyst</td>\n",
       "      <td>Sinch</td>\n",
       "      <td>São Paulo, State of São Paulo, Brazil …</td>\n",
       "      <td>Senior-level</td>\n",
       "      <td>Full Time</td>\n",
       "      <td>USD 50K - 85K *</td>\n",
       "      <td>[Big Data, Data pipelines, PowerBI, Python, SQ...</td>\n",
       "      <td>[]</td>\n",
       "    </tr>\n",
       "    <tr>\n",
       "      <th>3</th>\n",
       "      <td>Data Analyst (Risk)</td>\n",
       "      <td>Octopus Energy</td>\n",
       "      <td>London, UK</td>\n",
       "      <td>Senior-level</td>\n",
       "      <td>Full Time</td>\n",
       "      <td>USD 50K - 85K *</td>\n",
       "      <td>[Finance, Python, SQL]</td>\n",
       "      <td>[Career development, Salary bonus, Team events]</td>\n",
       "    </tr>\n",
       "    <tr>\n",
       "      <th>4</th>\n",
       "      <td>Principal Data Scientist, Customer Analytics</td>\n",
       "      <td>Atlassian</td>\n",
       "      <td>Mountain View, United States</td>\n",
       "      <td>Senior-level</td>\n",
       "      <td>Full Time</td>\n",
       "      <td>USD 68K - 135K *</td>\n",
       "      <td>[Machine Learning, Python, R, SQL]</td>\n",
       "      <td>[Career development, Health care, Startup envi...</td>\n",
       "    </tr>\n",
       "  </tbody>\n",
       "</table>\n",
       "</div>"
      ],
      "text/plain": [
       "                                      Job Title  \\\n",
       "0                 Business Intelligence Analyst   \n",
       "1            Lead Business Intelligence Analyst   \n",
       "2                           Sênior Data Analyst   \n",
       "3                           Data Analyst (Risk)   \n",
       "4  Principal Data Scientist, Customer Analytics   \n",
       "\n",
       "                          Company                                 Location  \\\n",
       "0  Amica Mutual Insurance Company                       Lincoln, RI, 02865   \n",
       "1  Amica Mutual Insurance Company                       Lincoln, RI, 02865   \n",
       "2                           Sinch  São Paulo, State of São Paulo, Brazil …   \n",
       "3                  Octopus Energy                               London, UK   \n",
       "4                       Atlassian             Mountain View, United States   \n",
       "\n",
       "          Level   Job Type      Salary Range  \\\n",
       "0     Mid-level  Full Time               n/a   \n",
       "1  Senior-level  Full Time               n/a   \n",
       "2  Senior-level  Full Time   USD 50K - 85K *   \n",
       "3  Senior-level  Full Time   USD 50K - 85K *   \n",
       "4  Senior-level  Full Time  USD 68K - 135K *   \n",
       "\n",
       "                                     Required Skills  \\\n",
       "0  [Business Intelligence, PowerBI, Python, R, SA...   \n",
       "1  [Business Intelligence, KPIs, Python, R, SAS, ...   \n",
       "2  [Big Data, Data pipelines, PowerBI, Python, SQ...   \n",
       "3                             [Finance, Python, SQL]   \n",
       "4                 [Machine Learning, Python, R, SQL]   \n",
       "\n",
       "                                            Benefits  \n",
       "0  [Competitive pay, Conferences, Fitness / gym, ...  \n",
       "1  [Competitive pay, Conferences, Fitness / gym, ...  \n",
       "2                                                 []  \n",
       "3    [Career development, Salary bonus, Team events]  \n",
       "4  [Career development, Health care, Startup envi...  "
      ]
     },
     "execution_count": 26,
     "metadata": {},
     "output_type": "execute_result"
    }
   ],
   "source": [
    "analysts.head()"
   ]
  },
  {
   "cell_type": "code",
   "execution_count": 28,
   "metadata": {},
   "outputs": [
    {
     "name": "stderr",
     "output_type": "stream",
     "text": [
      "C:\\Users\\Adekunle\\AppData\\Roaming\\Python\\Python36\\site-packages\\pandas\\compat\\_optional.py:124: UserWarning: Pandas requires version '0.9.8' or newer of 'xlsxwriter' (version '0.9.6' currently installed).\n",
      "  warnings.warn(msg, UserWarning)\n"
     ]
    }
   ],
   "source": [
    "#export the dataframe to excel\n",
    "analysts.to_excel('analyst.xlsx', index=False)"
   ]
  },
  {
   "cell_type": "code",
   "execution_count": 27,
   "metadata": {},
   "outputs": [
    {
     "name": "stdout",
     "output_type": "stream",
     "text": [
      "<class 'pandas.core.frame.DataFrame'>\n",
      "RangeIndex: 90 entries, 0 to 89\n",
      "Data columns (total 8 columns):\n",
      " #   Column           Non-Null Count  Dtype \n",
      "---  ------           --------------  ----- \n",
      " 0   Job Title        90 non-null     object\n",
      " 1   Company          90 non-null     object\n",
      " 2   Location         90 non-null     object\n",
      " 3   Level            90 non-null     object\n",
      " 4   Job Type         90 non-null     object\n",
      " 5   Salary Range     90 non-null     object\n",
      " 6   Required Skills  90 non-null     object\n",
      " 7   Benefits         90 non-null     object\n",
      "dtypes: object(8)\n",
      "memory usage: 5.8+ KB\n"
     ]
    }
   ],
   "source": [
    "analysts.info()"
   ]
  },
  {
   "cell_type": "code",
   "execution_count": null,
   "metadata": {
    "collapsed": true
   },
   "outputs": [],
   "source": []
  }
 ],
 "metadata": {
  "kernelspec": {
   "display_name": "Python 3",
   "language": "python",
   "name": "python3"
  },
  "language_info": {
   "codemirror_mode": {
    "name": "ipython",
    "version": 3
   },
   "file_extension": ".py",
   "mimetype": "text/x-python",
   "name": "python",
   "nbconvert_exporter": "python",
   "pygments_lexer": "ipython3",
   "version": "3.6.1"
  }
 },
 "nbformat": 4,
 "nbformat_minor": 2
}
